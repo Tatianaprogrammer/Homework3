{
 "cells": [
  {
   "cell_type": "code",
   "execution_count": 2,
   "id": "8959ccde",
   "metadata": {},
   "outputs": [
    {
     "name": "stdout",
     "output_type": "stream",
     "text": [
      "Введите количество счетов компании: 2\n",
      "Введите количество сотрудников компании: 3\n",
      "Вводите суммы\n",
      "1\n",
      "2\n",
      "1\n"
     ]
    }
   ],
   "source": [
    "N = int(input(\"Введите количество счетов компании: \"))\n",
    "M = int(input(\"Введите количество сотрудников компании: \"))\n",
    "print(\"Вводите суммы\")\n",
    "fond_all = []\n",
    "fond_sum = 0\n",
    "for i in range(N):\n",
    "    user_sum = int(input())\n",
    "    fond_all.append(user_sum)\n",
    "    fond_sum += user_sum\n",
    "try:\n",
    "    if fond_sum < M:\n",
    "        print(0)\n",
    "    elif fond_sum // M == 1:\n",
    "        print(1)\n",
    "    else:\n",
    "        grant_found = 0\n",
    "        max_grant = fond_sum // M\n",
    "\n",
    "        while True:\n",
    "            check = 0\n",
    "            for i in fond_all:\n",
    "                check += i // max_grant\n",
    "            if check >= M:\n",
    "                grant_found = 1\n",
    "                max_grant += 1\n",
    "\n",
    "            else:\n",
    "                if not grant_found:\n",
    "                    max_grant -= 1\n",
    "                else:\n",
    "                    print(max_grant - 1)\n",
    "                    break\n",
    "\n",
    "except ZeroDivisionError:\n",
    "    print(\"Вы ввели количество сотрудников, равное 0.\")"
   ]
  }
 ],
 "metadata": {
  "kernelspec": {
   "display_name": "Python 3 (ipykernel)",
   "language": "python",
   "name": "python3"
  },
  "language_info": {
   "codemirror_mode": {
    "name": "ipython",
    "version": 3
   },
   "file_extension": ".py",
   "mimetype": "text/x-python",
   "name": "python",
   "nbconvert_exporter": "python",
   "pygments_lexer": "ipython3",
   "version": "3.9.7"
  }
 },
 "nbformat": 4,
 "nbformat_minor": 5
}
